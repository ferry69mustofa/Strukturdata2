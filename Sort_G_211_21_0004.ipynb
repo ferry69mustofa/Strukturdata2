{
  "nbformat": 4,
  "nbformat_minor": 0,
  "metadata": {
    "colab": {
      "provenance": [],
      "authorship_tag": "ABX9TyPxHanqvN3Pej0F5F4BCOli",
      "include_colab_link": true
    },
    "kernelspec": {
      "name": "python3",
      "display_name": "Python 3"
    },
    "language_info": {
      "name": "python"
    }
  },
  "cells": [
    {
      "cell_type": "markdown",
      "metadata": {
        "id": "view-in-github",
        "colab_type": "text"
      },
      "source": [
        "<a href=\"https://colab.research.google.com/github/ferry69mustofa/Strukturdata2/blob/main/Sort_G_211_21_0004.ipynb\" target=\"_parent\"><img src=\"https://colab.research.google.com/assets/colab-badge.svg\" alt=\"Open In Colab\"/></a>"
      ]
    },
    {
      "cell_type": "code",
      "execution_count": 3,
      "metadata": {
        "colab": {
          "base_uri": "https://localhost:8080/"
        },
        "id": "-X8ShgnXKye9",
        "outputId": "9e575520-31c4-4c51-f79a-809ce766d40b"
      },
      "outputs": [
        {
          "output_type": "stream",
          "name": "stdout",
          "text": [
            "Bubble Sort - Sorted array is: [15, 19, 20, 25, 43, 70, 100]\n"
          ]
        }
      ],
      "source": [
        "#Bubble sort\n",
        "def bubbleSort(arr):\n",
        "    n = len(arr)\n",
        "\n",
        "    for i in range(n-1):\n",
        "        swapped = False\n",
        "\n",
        "        for j in range(0, n-i-1):\n",
        "            if arr[j] > arr[j + 1]:\n",
        "                arr[j], arr[j + 1] = arr[j + 1], arr[j]\n",
        "                swapped = True\n",
        "\n",
        "        if not swapped:\n",
        "            break\n",
        "\n",
        "# Driver code to test Bubble Sort\n",
        "arr_bubble = [70, 43, 20, 19, 25, 15, 100]\n",
        "bubbleSort(arr_bubble)\n",
        "print(\"Bubble Sort - Sorted array is:\", arr_bubble)"
      ]
    },
    {
      "cell_type": "code",
      "source": [
        "#Selection sort\n",
        "def selectionSort(arr):\n",
        "    n = len(arr)\n",
        "\n",
        "    for i in range(n):\n",
        "        min_index = i\n",
        "\n",
        "        for j in range(i+1, n):\n",
        "            if arr[j] < arr[min_index]:\n",
        "                min_index = j\n",
        "\n",
        "        arr[i], arr[min_index] = arr[min_index], arr[i]\n",
        "\n",
        "# Driver code to test Selection Sort\n",
        "arr_selection = [70, 43, 20, 19, 25, 15, 100]\n",
        "selectionSort(arr_selection)\n",
        "print(\"Selection Sort - Sorted array is:\", arr_selection)"
      ],
      "metadata": {
        "colab": {
          "base_uri": "https://localhost:8080/"
        },
        "id": "K6GkxPEqLY8I",
        "outputId": "7488c5b3-169a-4aa7-eb6d-6863507fe799"
      },
      "execution_count": 4,
      "outputs": [
        {
          "output_type": "stream",
          "name": "stdout",
          "text": [
            "Selection Sort - Sorted array is: [15, 19, 20, 25, 43, 70, 100]\n"
          ]
        }
      ]
    }
  ]
}