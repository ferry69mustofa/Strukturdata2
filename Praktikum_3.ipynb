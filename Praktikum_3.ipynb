{
  "nbformat": 4,
  "nbformat_minor": 0,
  "metadata": {
    "colab": {
      "provenance": [],
      "authorship_tag": "ABX9TyPSvDANj3acv5u5BWFM1IGp",
      "include_colab_link": true
    },
    "kernelspec": {
      "name": "python3",
      "display_name": "Python 3"
    },
    "language_info": {
      "name": "python"
    }
  },
  "cells": [
    {
      "cell_type": "markdown",
      "metadata": {
        "id": "view-in-github",
        "colab_type": "text"
      },
      "source": [
        "<a href=\"https://colab.research.google.com/github/ferry69mustofa/Strukturdata2/blob/main/Praktikum_3.ipynb\" target=\"_parent\"><img src=\"https://colab.research.google.com/assets/colab-badge.svg\" alt=\"Open In Colab\"/></a>"
      ]
    },
    {
      "cell_type": "code",
      "execution_count": null,
      "metadata": {
        "id": "auKEAI1hIiGs"
      },
      "outputs": [],
      "source": []
    },
    {
      "cell_type": "code",
      "source": [
        "# Daftar karakter input\n",
        "char_list = ['R', 'E', 'K', 'R', 'A', 'K', 'I', 'D']\n",
        "\n",
        "# Mengonversi daftar karakter menjadi string\n",
        "result_string = ''.join(char_list)\n",
        "\n",
        "# Menampilkan hasil\n",
        "print(\"Input:\", char_list)\n",
        "print(\"Output:\", result_string)\n"
      ],
      "metadata": {
        "colab": {
          "base_uri": "https://localhost:8080/"
        },
        "id": "Hl_lgTEcIjHI",
        "outputId": "b289d43e-4520-442e-cc74-2c0d0e2e5c47"
      },
      "execution_count": 2,
      "outputs": [
        {
          "output_type": "stream",
          "name": "stdout",
          "text": [
            "Input: ['R', 'E', 'K', 'R', 'A', 'K', 'I', 'D']\n",
            "Output: REKRAKID\n"
          ]
        }
      ]
    }
  ]
}