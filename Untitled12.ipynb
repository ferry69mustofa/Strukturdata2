{
  "nbformat": 4,
  "nbformat_minor": 0,
  "metadata": {
    "colab": {
      "provenance": []
    },
    "kernelspec": {
      "name": "python3",
      "display_name": "Python 3"
    },
    "language_info": {
      "name": "python"
    }
  },
  "cells": [
    {
      "cell_type": "code",
      "execution_count": 13,
      "metadata": {
        "colab": {
          "base_uri": "https://localhost:8080/"
        },
        "id": "TrCAvaks70dX",
        "outputId": "c0882995-0c8e-4111-c089-d832df6dd54a"
      },
      "outputs": [
        {
          "output_type": "stream",
          "name": "stdout",
          "text": [
            "Elemen kedua: 2\n",
            "Elemen terakhir: c\n",
            "1\n",
            "2\n",
            "3\n",
            "a\n",
            "b\n",
            "c\n"
          ]
        }
      ],
      "source": [
        "# Membuat Tuple\n",
        "my_tuple = (1, 2, 3, 'a', 'b', 'c')\n",
        "\n",
        "# Mengakses elemen Tuple\n",
        "print(\"Elemen kedua:\", my_tuple[1])\n",
        "print(\"Elemen terakhir:\", my_tuple[-1])\n",
        "\n",
        "# Iterasi melalui Tuple\n",
        "for item in my_tuple:\n",
        "    print(item)\n"
      ]
    },
    {
      "cell_type": "code",
      "source": [
        "# Membuat Dictionary\n",
        "my_dict = {'nama': 'Ferry', 'umur': 22, 'pekerjaan': 'Kepala Bagian'}\n",
        "\n",
        "# Mengakses nilai dengan kunci\n",
        "print(\"Nama:\", my_dict['nama'])\n",
        "print(\"Umur:\", my_dict['umur'])\n",
        "\n",
        "# Mengubah nilai\n",
        "my_dict['umur'] = 20\n",
        "\n",
        "# Menambahkan pasangan kunci-nilai baru\n",
        "my_dict['lokasi'] = 'Kendal'\n",
        "\n",
        "# Iterasi melalui kunci dan nilai\n",
        "for key, value in my_dict.items():\n",
        "    print(key, \":\", value)\n"
      ],
      "metadata": {
        "colab": {
          "base_uri": "https://localhost:8080/"
        },
        "id": "I7EnPfqzAjsu",
        "outputId": "ae1d617f-b309-49ef-aedf-ba3e2154e3ca"
      },
      "execution_count": 15,
      "outputs": [
        {
          "output_type": "stream",
          "name": "stdout",
          "text": [
            "Nama: Ferry\n",
            "Umur: 22\n",
            "nama : Ferry\n",
            "umur : 19\n",
            "pekerjaan : Kepala Bagian\n",
            "lokasi : Kendal\n"
          ]
        }
      ]
    }
  ]
}