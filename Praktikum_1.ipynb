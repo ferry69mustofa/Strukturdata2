{
  "nbformat": 4,
  "nbformat_minor": 0,
  "metadata": {
    "colab": {
      "provenance": [],
      "authorship_tag": "ABX9TyMtbtJYoa4i6ie6ymPQdtK2",
      "include_colab_link": true
    },
    "kernelspec": {
      "name": "python3",
      "display_name": "Python 3"
    },
    "language_info": {
      "name": "python"
    }
  },
  "cells": [
    {
      "cell_type": "markdown",
      "metadata": {
        "id": "view-in-github",
        "colab_type": "text"
      },
      "source": [
        "<a href=\"https://colab.research.google.com/github/ferry69mustofa/Strukturdata2/blob/main/Praktikum_1.ipynb\" target=\"_parent\"><img src=\"https://colab.research.google.com/assets/colab-badge.svg\" alt=\"Open In Colab\"/></a>"
      ]
    },
    {
      "cell_type": "code",
      "execution_count": 1,
      "metadata": {
        "colab": {
          "base_uri": "https://localhost:8080/"
        },
        "id": "ptTw-GPeq42T",
        "outputId": "482cbcf9-fffa-439f-f24e-8a87ed9596e2"
      },
      "outputs": [
        {
          "output_type": "stream",
          "name": "stdout",
          "text": [
            "Angka Genap : /n, angka_genap\n",
            "\n",
            "Jumlah Index angka genap (len) : \n",
            " 10\n",
            "\n",
            "Jumlah Nilai 12 Dalam List (count) : \n",
            " 0\n",
            "\n",
            "Menambah element dalam list (append) : \n",
            "Angka Genap :  [2, 4, 6, 8, 10, 12, 14, 16, 18, 20, 22, 24]\n",
            "\n",
            "Index ke 8 (index) : \n",
            " 1\n",
            "\n",
            "Tambah Angka Genap (Insert) : \n",
            " [2, 4, 22, 6, 8, 10, 12, 14, 16, 18, 20, 22, 24]\n",
            "\n",
            "Angka Genap (pop) : \n",
            " [2, 4, 22, 6, 8, 10, 12, 14, 16, 18, 20]\n",
            "\n",
            "Angka Genap (remove) : \n",
            " [2, 4, 22, 6, 8, 10, 12, 14, 16]\n",
            "\n",
            "Angka Genap (extend) : \n",
            " [2, 4, 22, 6, 8, 10, 12, 14, 16, 2, 4, 22, 6, 8, 10, 12, 14, 16]\n",
            "\n",
            "Angka Genap (reverse) : \n",
            " [16, 14, 12, 10, 8, 6, 22, 4, 2, 16, 14, 12, 10, 8, 6, 22, 4, 2]\n",
            "\n",
            "Angka Genap (sort) : \n",
            " [2, 2, 4, 4, 6, 6, 8, 8, 10, 10, 12, 12, 14, 14, 16, 16, 22, 22]\n",
            "\n",
            "Nilai Terbanyak (max) : \n",
            " 22\n",
            "\n",
            "Nilai terendah (min) : \n",
            " 2\n",
            "\n",
            "Total penjumlahan nilai dari angka_genap (sum) : \n",
            " 188\n"
          ]
        }
      ],
      "source": [
        "#Deklarasi List\n",
        "angka_genap = [2,4,6,8,10,12,14,16,18,20]\n",
        "#Tampilkan List\n",
        "print(\"Angka Genap : /n, angka_genap\")\n",
        "#Menggunakan Len\n",
        "print(\"\\nJumlah Index angka genap (len) : \\n\", len(angka_genap))\n",
        "#Menggunakan Count\n",
        "print(\"\\nJumlah Nilai 12 Dalam List (count) : \\n\", angka_genap.count(5))\n",
        "#Menggunakan Append\n",
        "print(\"\\nMenambah element dalam list (append) : \")\n",
        "angka_genap.append(22)\n",
        "angka_genap.append(24)\n",
        "print(\"Angka Genap : \",angka_genap)\n",
        "#Menggunakan Index\n",
        "print(\"\\nIndex ke 8 (index) : \\n\", angka_genap.index(4))\n",
        "#Menggunakan Insert\n",
        "angka_genap.insert(2,22)\n",
        "print(\"\\nTambah Angka Genap (Insert) : \\n\", angka_genap)\n",
        "#Menggunakan Pop\n",
        "angka_genap.pop()\n",
        "angka_genap.pop()\n",
        "print(\"\\nAngka Genap (pop) : \\n\",angka_genap)\n",
        "#Menggunakan Remove\n",
        "angka_genap.remove(18)\n",
        "angka_genap.remove(20)\n",
        "print(\"\\nAngka Genap (remove) : \\n\", angka_genap)\n",
        "#Menggunakan Extend\n",
        "angka_genap.extend(angka_genap)\n",
        "print(\"\\nAngka Genap (extend) : \\n\", angka_genap)\n",
        "#Menggunakan Reverse\n",
        "angka_genap.reverse()\n",
        "print(\"\\nAngka Genap (reverse) : \\n\", angka_genap)\n",
        "#Menggunakan Sort\n",
        "angka_genap.sort()\n",
        "print(\"\\nAngka Genap (sort) : \\n\", angka_genap)\n",
        "#Menggunakan Max\n",
        "print(\"\\nNilai Terbanyak (max) : \\n\", max(angka_genap))\n",
        "#Mengguankan Min\n",
        "print(\"\\nNilai terendah (min) : \\n\", min(angka_genap))\n",
        "#Menggunakan Sum\n",
        "print(\"\\nTotal penjumlahan nilai dari angka_genap (sum) : \\n\",\n",
        "sum(angka_genap))"
      ]
    }
  ]
}