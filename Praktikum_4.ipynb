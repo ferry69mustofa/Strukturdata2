{
  "nbformat": 4,
  "nbformat_minor": 0,
  "metadata": {
    "colab": {
      "provenance": [],
      "authorship_tag": "ABX9TyMG2dmEIj0bD2ZV6BkfYNvH",
      "include_colab_link": true
    },
    "kernelspec": {
      "name": "python3",
      "display_name": "Python 3"
    },
    "language_info": {
      "name": "python"
    }
  },
  "cells": [
    {
      "cell_type": "markdown",
      "metadata": {
        "id": "view-in-github",
        "colab_type": "text"
      },
      "source": [
        "<a href=\"https://colab.research.google.com/github/ferry69mustofa/Strukturdata2/blob/main/Praktikum_4.ipynb\" target=\"_parent\"><img src=\"https://colab.research.google.com/assets/colab-badge.svg\" alt=\"Open In Colab\"/></a>"
      ]
    },
    {
      "cell_type": "code",
      "execution_count": 1,
      "metadata": {
        "colab": {
          "base_uri": "https://localhost:8080/"
        },
        "id": "TzrgzMT3KA5X",
        "outputId": "c7ae0e63-b3d1-4fc7-e01a-546e95921ced"
      },
      "outputs": [
        {
          "output_type": "stream",
          "name": "stdout",
          "text": [
            "\"The quick brown fox jumps over the little lazy dog\"\n",
            "\n",
            "is a pangram\n"
          ]
        }
      ],
      "source": [
        "# A Python Program to check if the given\n",
        "# string is a pangram or not\n",
        "def checkPangram(s):\n",
        " List = []\n",
        "# create list of 26 characters and set false each entry\n",
        " for i in range(26): List.append(False)\n",
        " # converting the sentence to lowercase and iterating\n",
        " # over the sentence\n",
        " for c in s.lower():\n",
        "    if not c == \" \":\n",
        " # make the corresponding entry True\n",
        "      List[ord(c) - ord('a')] = True\n",
        " # check if any character is missing then return False\n",
        " for ch in List:\n",
        "  if ch == False:\n",
        "    return False\n",
        " return True\n",
        "# Driver Program to test above functions\n",
        "sentence = \"The quick brown fox jumps over the little lazy dog\"\n",
        "if (checkPangram(sentence)):\n",
        " print('\"'+sentence+'\"')\n",
        " print(\"\\nis a pangram\")\n",
        "else:\n",
        " print('\"'+sentence+'\"')\n",
        " print(\"\\nis not a pangram\")"
      ]
    },
    {
      "cell_type": "code",
      "source": [
        "#Algoritma membuat pangram\n",
        "def create_pangram(sentence):\n",
        "    alphabet = \"abcdefghijklmnopqrstuvwxyz\"\n",
        "    used_letters = set()\n",
        "\n",
        "    for char in sentence.lower():\n",
        "        if char.isalpha() and char not in used_letters:\n",
        "            used_letters.add(char)\n",
        "\n",
        "    missing_letters = set(alphabet) - used_letters\n",
        "\n",
        "    if not missing_letters:\n",
        "        print(\"Kalimat ini sudah merupakan pangram.\")\n",
        "    else:\n",
        "        pangram = sentence + \" \" + \"\".join(sorted(missing_letters))\n",
        "        print(\"Pangram yang dibuat:\", pangram)\n",
        "\n",
        "# Contoh pangram\n",
        "input_sentence = \"The quick brown fox jumps over the lazy dog\"\n",
        "create_pangram(input_sentence)"
      ],
      "metadata": {
        "colab": {
          "base_uri": "https://localhost:8080/"
        },
        "id": "3z0N5eB2KLsk",
        "outputId": "b1cad123-d49b-48b2-ad63-5ed1b82bc506"
      },
      "execution_count": 2,
      "outputs": [
        {
          "output_type": "stream",
          "name": "stdout",
          "text": [
            "Kalimat ini sudah merupakan pangram.\n"
          ]
        }
      ]
    }
  ]
}